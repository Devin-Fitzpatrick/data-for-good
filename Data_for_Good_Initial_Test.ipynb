{
  "nbformat": 4,
  "nbformat_minor": 0,
  "metadata": {
    "colab": {
      "provenance": [],
      "authorship_tag": "ABX9TyPWDK8MhG3antRJRuxWvbJc",
      "include_colab_link": true
    },
    "kernelspec": {
      "name": "python3",
      "display_name": "Python 3"
    },
    "language_info": {
      "name": "python"
    }
  },
  "cells": [
    {
      "cell_type": "markdown",
      "metadata": {
        "id": "view-in-github",
        "colab_type": "text"
      },
      "source": [
        "<a href=\"https://colab.research.google.com/github/Devin-Fitzpatrick/data-for-good/blob/main/Data_for_Good_Initial_Test.ipynb\" target=\"_parent\"><img src=\"https://colab.research.google.com/assets/colab-badge.svg\" alt=\"Open In Colab\"/></a>"
      ]
    },
    {
      "cell_type": "markdown",
      "source": [
        "I am making my first commit."
      ],
      "metadata": {
        "id": "o_AhoSPOUBm0"
      }
    },
    {
      "cell_type": "code",
      "execution_count": 1,
      "metadata": {
        "colab": {
          "base_uri": "https://localhost:8080/"
        },
        "id": "27jdQe8HT-T4",
        "outputId": "d8381e49-4e0d-4775-f2e5-cd0c081ef090"
      },
      "outputs": [
        {
          "output_type": "stream",
          "name": "stdout",
          "text": [
            "Hello, world!\n"
          ]
        }
      ],
      "source": [
        "print(\"Hello, world!\")"
      ]
    },
    {
      "cell_type": "markdown",
      "source": [
        "Adding something in the middle might mess something up, so I'll make a new branch and then merge just to be safe."
      ],
      "metadata": {
        "id": "smMZZSR1WWbq"
      }
    },
    {
      "cell_type": "code",
      "source": [
        "print(\"This will almost certainly be fine, but better safe than sorry!\")"
      ],
      "metadata": {
        "colab": {
          "base_uri": "https://localhost:8080/"
        },
        "id": "8x_BfVBdWbAy",
        "outputId": "591306de-0321-4048-df58-4fe956e1b253"
      },
      "execution_count": 3,
      "outputs": [
        {
          "output_type": "stream",
          "name": "stdout",
          "text": [
            "This will almost certainly be fine, but better safe than sorry!\n"
          ]
        }
      ]
    },
    {
      "cell_type": "markdown",
      "source": [
        "I am making my second commit."
      ],
      "metadata": {
        "id": "Mc78dlwhV5Ty"
      }
    },
    {
      "cell_type": "code",
      "source": [
        "print(\"Hello again, world!\")"
      ],
      "metadata": {
        "colab": {
          "base_uri": "https://localhost:8080/"
        },
        "id": "FGgKxCWUV6ui",
        "outputId": "fc66bf5a-543a-4bfa-d436-dfb95706ee22"
      },
      "execution_count": 2,
      "outputs": [
        {
          "output_type": "stream",
          "name": "stdout",
          "text": [
            "Hello again, world!\n"
          ]
        }
      ]
    },
    {
      "cell_type": "markdown",
      "source": [],
      "metadata": {
        "id": "VC-IVdPqWRrC"
      }
    }
  ]
}